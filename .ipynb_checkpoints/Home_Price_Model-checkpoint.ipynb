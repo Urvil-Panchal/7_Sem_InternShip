{
 "cells": [
  {
   "cell_type": "code",
   "execution_count": 1,
   "id": "9cf3719a",
   "metadata": {},
   "outputs": [],
   "source": [
    "import pandas as pd"
   ]
  },
  {
   "cell_type": "code",
   "execution_count": 2,
   "id": "65342c15",
   "metadata": {},
   "outputs": [
    {
     "data": {
      "text/html": [
       "<div>\n",
       "<style scoped>\n",
       "    .dataframe tbody tr th:only-of-type {\n",
       "        vertical-align: middle;\n",
       "    }\n",
       "\n",
       "    .dataframe tbody tr th {\n",
       "        vertical-align: top;\n",
       "    }\n",
       "\n",
       "    .dataframe thead th {\n",
       "        text-align: right;\n",
       "    }\n",
       "</style>\n",
       "<table border=\"1\" class=\"dataframe\">\n",
       "  <thead>\n",
       "    <tr style=\"text-align: right;\">\n",
       "      <th></th>\n",
       "      <th>price</th>\n",
       "      <th>bedrooms</th>\n",
       "      <th>bathrooms</th>\n",
       "      <th>sqft_living</th>\n",
       "      <th>sqft_lot</th>\n",
       "      <th>floors</th>\n",
       "      <th>waterfront</th>\n",
       "      <th>view</th>\n",
       "      <th>condition</th>\n",
       "      <th>sqft_basement</th>\n",
       "      <th>yr_built</th>\n",
       "      <th>yr_renovated</th>\n",
       "    </tr>\n",
       "  </thead>\n",
       "  <tbody>\n",
       "    <tr>\n",
       "      <th>0</th>\n",
       "      <td>3.130000e+05</td>\n",
       "      <td>3.0</td>\n",
       "      <td>1.50</td>\n",
       "      <td>1340</td>\n",
       "      <td>7912</td>\n",
       "      <td>1.5</td>\n",
       "      <td>0</td>\n",
       "      <td>0</td>\n",
       "      <td>3</td>\n",
       "      <td>0</td>\n",
       "      <td>1955</td>\n",
       "      <td>2005</td>\n",
       "    </tr>\n",
       "    <tr>\n",
       "      <th>1</th>\n",
       "      <td>2.384000e+06</td>\n",
       "      <td>5.0</td>\n",
       "      <td>2.50</td>\n",
       "      <td>3650</td>\n",
       "      <td>9050</td>\n",
       "      <td>2.0</td>\n",
       "      <td>0</td>\n",
       "      <td>4</td>\n",
       "      <td>5</td>\n",
       "      <td>280</td>\n",
       "      <td>1921</td>\n",
       "      <td>0</td>\n",
       "    </tr>\n",
       "    <tr>\n",
       "      <th>2</th>\n",
       "      <td>3.420000e+05</td>\n",
       "      <td>3.0</td>\n",
       "      <td>2.00</td>\n",
       "      <td>1930</td>\n",
       "      <td>11947</td>\n",
       "      <td>1.0</td>\n",
       "      <td>0</td>\n",
       "      <td>0</td>\n",
       "      <td>4</td>\n",
       "      <td>0</td>\n",
       "      <td>1966</td>\n",
       "      <td>0</td>\n",
       "    </tr>\n",
       "    <tr>\n",
       "      <th>3</th>\n",
       "      <td>4.200000e+05</td>\n",
       "      <td>3.0</td>\n",
       "      <td>2.25</td>\n",
       "      <td>2000</td>\n",
       "      <td>8030</td>\n",
       "      <td>1.0</td>\n",
       "      <td>0</td>\n",
       "      <td>0</td>\n",
       "      <td>4</td>\n",
       "      <td>1000</td>\n",
       "      <td>1963</td>\n",
       "      <td>0</td>\n",
       "    </tr>\n",
       "    <tr>\n",
       "      <th>4</th>\n",
       "      <td>5.500000e+05</td>\n",
       "      <td>4.0</td>\n",
       "      <td>2.50</td>\n",
       "      <td>1940</td>\n",
       "      <td>10500</td>\n",
       "      <td>1.0</td>\n",
       "      <td>0</td>\n",
       "      <td>0</td>\n",
       "      <td>4</td>\n",
       "      <td>800</td>\n",
       "      <td>1976</td>\n",
       "      <td>1992</td>\n",
       "    </tr>\n",
       "    <tr>\n",
       "      <th>...</th>\n",
       "      <td>...</td>\n",
       "      <td>...</td>\n",
       "      <td>...</td>\n",
       "      <td>...</td>\n",
       "      <td>...</td>\n",
       "      <td>...</td>\n",
       "      <td>...</td>\n",
       "      <td>...</td>\n",
       "      <td>...</td>\n",
       "      <td>...</td>\n",
       "      <td>...</td>\n",
       "      <td>...</td>\n",
       "    </tr>\n",
       "    <tr>\n",
       "      <th>4595</th>\n",
       "      <td>3.081667e+05</td>\n",
       "      <td>3.0</td>\n",
       "      <td>1.75</td>\n",
       "      <td>1510</td>\n",
       "      <td>6360</td>\n",
       "      <td>1.0</td>\n",
       "      <td>0</td>\n",
       "      <td>0</td>\n",
       "      <td>4</td>\n",
       "      <td>0</td>\n",
       "      <td>1954</td>\n",
       "      <td>1979</td>\n",
       "    </tr>\n",
       "    <tr>\n",
       "      <th>4596</th>\n",
       "      <td>5.343333e+05</td>\n",
       "      <td>3.0</td>\n",
       "      <td>2.50</td>\n",
       "      <td>1460</td>\n",
       "      <td>7573</td>\n",
       "      <td>2.0</td>\n",
       "      <td>0</td>\n",
       "      <td>0</td>\n",
       "      <td>3</td>\n",
       "      <td>0</td>\n",
       "      <td>1983</td>\n",
       "      <td>2009</td>\n",
       "    </tr>\n",
       "    <tr>\n",
       "      <th>4597</th>\n",
       "      <td>4.169042e+05</td>\n",
       "      <td>3.0</td>\n",
       "      <td>2.50</td>\n",
       "      <td>3010</td>\n",
       "      <td>7014</td>\n",
       "      <td>2.0</td>\n",
       "      <td>0</td>\n",
       "      <td>0</td>\n",
       "      <td>3</td>\n",
       "      <td>0</td>\n",
       "      <td>2009</td>\n",
       "      <td>0</td>\n",
       "    </tr>\n",
       "    <tr>\n",
       "      <th>4598</th>\n",
       "      <td>2.034000e+05</td>\n",
       "      <td>4.0</td>\n",
       "      <td>2.00</td>\n",
       "      <td>2090</td>\n",
       "      <td>6630</td>\n",
       "      <td>1.0</td>\n",
       "      <td>0</td>\n",
       "      <td>0</td>\n",
       "      <td>3</td>\n",
       "      <td>1020</td>\n",
       "      <td>1974</td>\n",
       "      <td>0</td>\n",
       "    </tr>\n",
       "    <tr>\n",
       "      <th>4599</th>\n",
       "      <td>2.206000e+05</td>\n",
       "      <td>3.0</td>\n",
       "      <td>2.50</td>\n",
       "      <td>1490</td>\n",
       "      <td>8102</td>\n",
       "      <td>2.0</td>\n",
       "      <td>0</td>\n",
       "      <td>0</td>\n",
       "      <td>4</td>\n",
       "      <td>0</td>\n",
       "      <td>1990</td>\n",
       "      <td>0</td>\n",
       "    </tr>\n",
       "  </tbody>\n",
       "</table>\n",
       "<p>4600 rows × 12 columns</p>\n",
       "</div>"
      ],
      "text/plain": [
       "             price  bedrooms  bathrooms  sqft_living  sqft_lot  floors  \\\n",
       "0     3.130000e+05       3.0       1.50         1340      7912     1.5   \n",
       "1     2.384000e+06       5.0       2.50         3650      9050     2.0   \n",
       "2     3.420000e+05       3.0       2.00         1930     11947     1.0   \n",
       "3     4.200000e+05       3.0       2.25         2000      8030     1.0   \n",
       "4     5.500000e+05       4.0       2.50         1940     10500     1.0   \n",
       "...            ...       ...        ...          ...       ...     ...   \n",
       "4595  3.081667e+05       3.0       1.75         1510      6360     1.0   \n",
       "4596  5.343333e+05       3.0       2.50         1460      7573     2.0   \n",
       "4597  4.169042e+05       3.0       2.50         3010      7014     2.0   \n",
       "4598  2.034000e+05       4.0       2.00         2090      6630     1.0   \n",
       "4599  2.206000e+05       3.0       2.50         1490      8102     2.0   \n",
       "\n",
       "      waterfront  view  condition  sqft_basement  yr_built  yr_renovated  \n",
       "0              0     0          3              0      1955          2005  \n",
       "1              0     4          5            280      1921             0  \n",
       "2              0     0          4              0      1966             0  \n",
       "3              0     0          4           1000      1963             0  \n",
       "4              0     0          4            800      1976          1992  \n",
       "...          ...   ...        ...            ...       ...           ...  \n",
       "4595           0     0          4              0      1954          1979  \n",
       "4596           0     0          3              0      1983          2009  \n",
       "4597           0     0          3              0      2009             0  \n",
       "4598           0     0          3           1020      1974             0  \n",
       "4599           0     0          4              0      1990             0  \n",
       "\n",
       "[4600 rows x 12 columns]"
      ]
     },
     "execution_count": 2,
     "metadata": {},
     "output_type": "execute_result"
    }
   ],
   "source": [
    "df = pd.read_csv('Cleaned_Data.csv')\n",
    "\n",
    "df"
   ]
  },
  {
   "cell_type": "markdown",
   "id": "e84a4d44",
   "metadata": {},
   "source": [
    "# Splitting into Train,  Validation and Test  "
   ]
  },
  {
   "cell_type": "code",
   "execution_count": 3,
   "id": "fb0a4dd9",
   "metadata": {},
   "outputs": [
    {
     "data": {
      "text/html": [
       "<div>\n",
       "<style scoped>\n",
       "    .dataframe tbody tr th:only-of-type {\n",
       "        vertical-align: middle;\n",
       "    }\n",
       "\n",
       "    .dataframe tbody tr th {\n",
       "        vertical-align: top;\n",
       "    }\n",
       "\n",
       "    .dataframe thead th {\n",
       "        text-align: right;\n",
       "    }\n",
       "</style>\n",
       "<table border=\"1\" class=\"dataframe\">\n",
       "  <thead>\n",
       "    <tr style=\"text-align: right;\">\n",
       "      <th></th>\n",
       "      <th>bedrooms</th>\n",
       "      <th>bathrooms</th>\n",
       "      <th>sqft_living</th>\n",
       "      <th>sqft_lot</th>\n",
       "      <th>floors</th>\n",
       "      <th>waterfront</th>\n",
       "      <th>view</th>\n",
       "      <th>condition</th>\n",
       "      <th>sqft_basement</th>\n",
       "      <th>yr_built</th>\n",
       "      <th>yr_renovated</th>\n",
       "    </tr>\n",
       "  </thead>\n",
       "  <tbody>\n",
       "    <tr>\n",
       "      <th>0</th>\n",
       "      <td>3.0</td>\n",
       "      <td>1.50</td>\n",
       "      <td>1340</td>\n",
       "      <td>7912</td>\n",
       "      <td>1.5</td>\n",
       "      <td>0</td>\n",
       "      <td>0</td>\n",
       "      <td>3</td>\n",
       "      <td>0</td>\n",
       "      <td>1955</td>\n",
       "      <td>2005</td>\n",
       "    </tr>\n",
       "    <tr>\n",
       "      <th>1</th>\n",
       "      <td>5.0</td>\n",
       "      <td>2.50</td>\n",
       "      <td>3650</td>\n",
       "      <td>9050</td>\n",
       "      <td>2.0</td>\n",
       "      <td>0</td>\n",
       "      <td>4</td>\n",
       "      <td>5</td>\n",
       "      <td>280</td>\n",
       "      <td>1921</td>\n",
       "      <td>0</td>\n",
       "    </tr>\n",
       "    <tr>\n",
       "      <th>2</th>\n",
       "      <td>3.0</td>\n",
       "      <td>2.00</td>\n",
       "      <td>1930</td>\n",
       "      <td>11947</td>\n",
       "      <td>1.0</td>\n",
       "      <td>0</td>\n",
       "      <td>0</td>\n",
       "      <td>4</td>\n",
       "      <td>0</td>\n",
       "      <td>1966</td>\n",
       "      <td>0</td>\n",
       "    </tr>\n",
       "    <tr>\n",
       "      <th>3</th>\n",
       "      <td>3.0</td>\n",
       "      <td>2.25</td>\n",
       "      <td>2000</td>\n",
       "      <td>8030</td>\n",
       "      <td>1.0</td>\n",
       "      <td>0</td>\n",
       "      <td>0</td>\n",
       "      <td>4</td>\n",
       "      <td>1000</td>\n",
       "      <td>1963</td>\n",
       "      <td>0</td>\n",
       "    </tr>\n",
       "    <tr>\n",
       "      <th>4</th>\n",
       "      <td>4.0</td>\n",
       "      <td>2.50</td>\n",
       "      <td>1940</td>\n",
       "      <td>10500</td>\n",
       "      <td>1.0</td>\n",
       "      <td>0</td>\n",
       "      <td>0</td>\n",
       "      <td>4</td>\n",
       "      <td>800</td>\n",
       "      <td>1976</td>\n",
       "      <td>1992</td>\n",
       "    </tr>\n",
       "    <tr>\n",
       "      <th>...</th>\n",
       "      <td>...</td>\n",
       "      <td>...</td>\n",
       "      <td>...</td>\n",
       "      <td>...</td>\n",
       "      <td>...</td>\n",
       "      <td>...</td>\n",
       "      <td>...</td>\n",
       "      <td>...</td>\n",
       "      <td>...</td>\n",
       "      <td>...</td>\n",
       "      <td>...</td>\n",
       "    </tr>\n",
       "    <tr>\n",
       "      <th>4595</th>\n",
       "      <td>3.0</td>\n",
       "      <td>1.75</td>\n",
       "      <td>1510</td>\n",
       "      <td>6360</td>\n",
       "      <td>1.0</td>\n",
       "      <td>0</td>\n",
       "      <td>0</td>\n",
       "      <td>4</td>\n",
       "      <td>0</td>\n",
       "      <td>1954</td>\n",
       "      <td>1979</td>\n",
       "    </tr>\n",
       "    <tr>\n",
       "      <th>4596</th>\n",
       "      <td>3.0</td>\n",
       "      <td>2.50</td>\n",
       "      <td>1460</td>\n",
       "      <td>7573</td>\n",
       "      <td>2.0</td>\n",
       "      <td>0</td>\n",
       "      <td>0</td>\n",
       "      <td>3</td>\n",
       "      <td>0</td>\n",
       "      <td>1983</td>\n",
       "      <td>2009</td>\n",
       "    </tr>\n",
       "    <tr>\n",
       "      <th>4597</th>\n",
       "      <td>3.0</td>\n",
       "      <td>2.50</td>\n",
       "      <td>3010</td>\n",
       "      <td>7014</td>\n",
       "      <td>2.0</td>\n",
       "      <td>0</td>\n",
       "      <td>0</td>\n",
       "      <td>3</td>\n",
       "      <td>0</td>\n",
       "      <td>2009</td>\n",
       "      <td>0</td>\n",
       "    </tr>\n",
       "    <tr>\n",
       "      <th>4598</th>\n",
       "      <td>4.0</td>\n",
       "      <td>2.00</td>\n",
       "      <td>2090</td>\n",
       "      <td>6630</td>\n",
       "      <td>1.0</td>\n",
       "      <td>0</td>\n",
       "      <td>0</td>\n",
       "      <td>3</td>\n",
       "      <td>1020</td>\n",
       "      <td>1974</td>\n",
       "      <td>0</td>\n",
       "    </tr>\n",
       "    <tr>\n",
       "      <th>4599</th>\n",
       "      <td>3.0</td>\n",
       "      <td>2.50</td>\n",
       "      <td>1490</td>\n",
       "      <td>8102</td>\n",
       "      <td>2.0</td>\n",
       "      <td>0</td>\n",
       "      <td>0</td>\n",
       "      <td>4</td>\n",
       "      <td>0</td>\n",
       "      <td>1990</td>\n",
       "      <td>0</td>\n",
       "    </tr>\n",
       "  </tbody>\n",
       "</table>\n",
       "<p>4600 rows × 11 columns</p>\n",
       "</div>"
      ],
      "text/plain": [
       "      bedrooms  bathrooms  sqft_living  sqft_lot  floors  waterfront  view  \\\n",
       "0          3.0       1.50         1340      7912     1.5           0     0   \n",
       "1          5.0       2.50         3650      9050     2.0           0     4   \n",
       "2          3.0       2.00         1930     11947     1.0           0     0   \n",
       "3          3.0       2.25         2000      8030     1.0           0     0   \n",
       "4          4.0       2.50         1940     10500     1.0           0     0   \n",
       "...        ...        ...          ...       ...     ...         ...   ...   \n",
       "4595       3.0       1.75         1510      6360     1.0           0     0   \n",
       "4596       3.0       2.50         1460      7573     2.0           0     0   \n",
       "4597       3.0       2.50         3010      7014     2.0           0     0   \n",
       "4598       4.0       2.00         2090      6630     1.0           0     0   \n",
       "4599       3.0       2.50         1490      8102     2.0           0     0   \n",
       "\n",
       "      condition  sqft_basement  yr_built  yr_renovated  \n",
       "0             3              0      1955          2005  \n",
       "1             5            280      1921             0  \n",
       "2             4              0      1966             0  \n",
       "3             4           1000      1963             0  \n",
       "4             4            800      1976          1992  \n",
       "...         ...            ...       ...           ...  \n",
       "4595          4              0      1954          1979  \n",
       "4596          3              0      1983          2009  \n",
       "4597          3              0      2009             0  \n",
       "4598          3           1020      1974             0  \n",
       "4599          4              0      1990             0  \n",
       "\n",
       "[4600 rows x 11 columns]"
      ]
     },
     "execution_count": 3,
     "metadata": {},
     "output_type": "execute_result"
    }
   ],
   "source": [
    "X = df.iloc[:,1:]\n",
    "X"
   ]
  },
  {
   "cell_type": "code",
   "execution_count": 4,
   "id": "1b00d5cd",
   "metadata": {},
   "outputs": [
    {
     "data": {
      "text/plain": [
       "0       3.130000e+05\n",
       "1       2.384000e+06\n",
       "2       3.420000e+05\n",
       "3       4.200000e+05\n",
       "4       5.500000e+05\n",
       "            ...     \n",
       "4595    3.081667e+05\n",
       "4596    5.343333e+05\n",
       "4597    4.169042e+05\n",
       "4598    2.034000e+05\n",
       "4599    2.206000e+05\n",
       "Name: price, Length: 4600, dtype: float64"
      ]
     },
     "execution_count": 4,
     "metadata": {},
     "output_type": "execute_result"
    }
   ],
   "source": [
    "y = df.price\n",
    "y"
   ]
  },
  {
   "cell_type": "code",
   "execution_count": 5,
   "id": "2ab5fa93",
   "metadata": {},
   "outputs": [
    {
     "name": "stdout",
     "output_type": "stream",
     "text": [
      "0.9\n"
     ]
    }
   ],
   "source": [
    "from sklearn.model_selection import train_test_split\n",
    "X_train, X_rem, y_train, y_rem = train_test_split(X, y, test_size=0.1, random_state=42)\n",
    "\n",
    "print(len(X_train) / len(df))"
   ]
  },
  {
   "cell_type": "code",
   "execution_count": 6,
   "id": "93e8a2ee",
   "metadata": {},
   "outputs": [
    {
     "name": "stdout",
     "output_type": "stream",
     "text": [
      "0.5\n"
     ]
    }
   ],
   "source": [
    "# Splitting Remaining Data into Validation and Test Data\n",
    "\n",
    "X_val, X_test, y_val, y_test = train_test_split(X_rem, y_rem, test_size=0.5, random_state=42)\n",
    "print(len(X_test) / len(y_rem))"
   ]
  },
  {
   "cell_type": "code",
   "execution_count": 7,
   "id": "e62c4320",
   "metadata": {},
   "outputs": [
    {
     "name": "stdout",
     "output_type": "stream",
     "text": [
      "Training 4140\n",
      "Validation 230\n",
      "Testing 230\n"
     ]
    }
   ],
   "source": [
    "# All three Splits are\n",
    "print('Training',len(X_train))\n",
    "print('Validation',len(X_val))\n",
    "print('Testing',len(X_val))"
   ]
  },
  {
   "cell_type": "markdown",
   "id": "eda968e8",
   "metadata": {},
   "source": [
    "# Model Training - Linear Regression"
   ]
  },
  {
   "cell_type": "code",
   "execution_count": 8,
   "id": "2ab2241c",
   "metadata": {},
   "outputs": [
    {
     "data": {
      "text/html": [
       "<style>#sk-container-id-1 {color: black;}#sk-container-id-1 pre{padding: 0;}#sk-container-id-1 div.sk-toggleable {background-color: white;}#sk-container-id-1 label.sk-toggleable__label {cursor: pointer;display: block;width: 100%;margin-bottom: 0;padding: 0.3em;box-sizing: border-box;text-align: center;}#sk-container-id-1 label.sk-toggleable__label-arrow:before {content: \"▸\";float: left;margin-right: 0.25em;color: #696969;}#sk-container-id-1 label.sk-toggleable__label-arrow:hover:before {color: black;}#sk-container-id-1 div.sk-estimator:hover label.sk-toggleable__label-arrow:before {color: black;}#sk-container-id-1 div.sk-toggleable__content {max-height: 0;max-width: 0;overflow: hidden;text-align: left;background-color: #f0f8ff;}#sk-container-id-1 div.sk-toggleable__content pre {margin: 0.2em;color: black;border-radius: 0.25em;background-color: #f0f8ff;}#sk-container-id-1 input.sk-toggleable__control:checked~div.sk-toggleable__content {max-height: 200px;max-width: 100%;overflow: auto;}#sk-container-id-1 input.sk-toggleable__control:checked~label.sk-toggleable__label-arrow:before {content: \"▾\";}#sk-container-id-1 div.sk-estimator input.sk-toggleable__control:checked~label.sk-toggleable__label {background-color: #d4ebff;}#sk-container-id-1 div.sk-label input.sk-toggleable__control:checked~label.sk-toggleable__label {background-color: #d4ebff;}#sk-container-id-1 input.sk-hidden--visually {border: 0;clip: rect(1px 1px 1px 1px);clip: rect(1px, 1px, 1px, 1px);height: 1px;margin: -1px;overflow: hidden;padding: 0;position: absolute;width: 1px;}#sk-container-id-1 div.sk-estimator {font-family: monospace;background-color: #f0f8ff;border: 1px dotted black;border-radius: 0.25em;box-sizing: border-box;margin-bottom: 0.5em;}#sk-container-id-1 div.sk-estimator:hover {background-color: #d4ebff;}#sk-container-id-1 div.sk-parallel-item::after {content: \"\";width: 100%;border-bottom: 1px solid gray;flex-grow: 1;}#sk-container-id-1 div.sk-label:hover label.sk-toggleable__label {background-color: #d4ebff;}#sk-container-id-1 div.sk-serial::before {content: \"\";position: absolute;border-left: 1px solid gray;box-sizing: border-box;top: 0;bottom: 0;left: 50%;z-index: 0;}#sk-container-id-1 div.sk-serial {display: flex;flex-direction: column;align-items: center;background-color: white;padding-right: 0.2em;padding-left: 0.2em;position: relative;}#sk-container-id-1 div.sk-item {position: relative;z-index: 1;}#sk-container-id-1 div.sk-parallel {display: flex;align-items: stretch;justify-content: center;background-color: white;position: relative;}#sk-container-id-1 div.sk-item::before, #sk-container-id-1 div.sk-parallel-item::before {content: \"\";position: absolute;border-left: 1px solid gray;box-sizing: border-box;top: 0;bottom: 0;left: 50%;z-index: -1;}#sk-container-id-1 div.sk-parallel-item {display: flex;flex-direction: column;z-index: 1;position: relative;background-color: white;}#sk-container-id-1 div.sk-parallel-item:first-child::after {align-self: flex-end;width: 50%;}#sk-container-id-1 div.sk-parallel-item:last-child::after {align-self: flex-start;width: 50%;}#sk-container-id-1 div.sk-parallel-item:only-child::after {width: 0;}#sk-container-id-1 div.sk-dashed-wrapped {border: 1px dashed gray;margin: 0 0.4em 0.5em 0.4em;box-sizing: border-box;padding-bottom: 0.4em;background-color: white;}#sk-container-id-1 div.sk-label label {font-family: monospace;font-weight: bold;display: inline-block;line-height: 1.2em;}#sk-container-id-1 div.sk-label-container {text-align: center;}#sk-container-id-1 div.sk-container {/* jupyter's `normalize.less` sets `[hidden] { display: none; }` but bootstrap.min.css set `[hidden] { display: none !important; }` so we also need the `!important` here to be able to override the default hidden behavior on the sphinx rendered scikit-learn.org. See: https://github.com/scikit-learn/scikit-learn/issues/21755 */display: inline-block !important;position: relative;}#sk-container-id-1 div.sk-text-repr-fallback {display: none;}</style><div id=\"sk-container-id-1\" class=\"sk-top-container\"><div class=\"sk-text-repr-fallback\"><pre>LinearRegression()</pre><b>In a Jupyter environment, please rerun this cell to show the HTML representation or trust the notebook. <br />On GitHub, the HTML representation is unable to render, please try loading this page with nbviewer.org.</b></div><div class=\"sk-container\" hidden><div class=\"sk-item\"><div class=\"sk-estimator sk-toggleable\"><input class=\"sk-toggleable__control sk-hidden--visually\" id=\"sk-estimator-id-1\" type=\"checkbox\" checked><label for=\"sk-estimator-id-1\" class=\"sk-toggleable__label sk-toggleable__label-arrow\">LinearRegression</label><div class=\"sk-toggleable__content\"><pre>LinearRegression()</pre></div></div></div></div></div>"
      ],
      "text/plain": [
       "LinearRegression()"
      ]
     },
     "execution_count": 8,
     "metadata": {},
     "output_type": "execute_result"
    }
   ],
   "source": [
    "from sklearn.linear_model import LinearRegression\n",
    "\n",
    "lin_reg = LinearRegression()\n",
    "lin_reg.fit(X_train.values, y_train)"
   ]
  },
  {
   "cell_type": "markdown",
   "id": "2d112ecc",
   "metadata": {},
   "source": [
    "# Prediction"
   ]
  },
  {
   "cell_type": "code",
   "execution_count": 9,
   "id": "8bc5e206",
   "metadata": {},
   "outputs": [
    {
     "name": "stderr",
     "output_type": "stream",
     "text": [
      "C:\\Users\\Urvil_P\\anaconda3\\Lib\\site-packages\\sklearn\\base.py:458: UserWarning: X has feature names, but LinearRegression was fitted without feature names\n",
      "  warnings.warn(\n"
     ]
    },
    {
     "data": {
      "text/plain": [
       "array([ 253242.03490705,  702475.20881071,  425770.71872952,\n",
       "        401585.02118373,  500538.09376988, 1126833.99321244,\n",
       "        964303.99764417,  737852.37851083,  417474.51154158,\n",
       "        169092.17980858,  752305.82972659,  585203.51852877,\n",
       "        301903.12231659,  871552.12993304,  721324.84026955,\n",
       "        489772.91222643,  392323.38020603,  805893.18068668,\n",
       "        568647.0352336 ,  334005.78714558,  252432.85827272,\n",
       "        247189.21904265,  283745.49886147,  537370.61726804,\n",
       "        563157.01750434,  407293.27010466,  338770.86255196,\n",
       "        382534.12638537,  630739.63945753,  427682.64424393,\n",
       "        843526.96041122,  769598.00468818,  869035.52910522,\n",
       "        563652.06360396,  374964.80317432,  701836.11366034,\n",
       "       1180599.53485903,  341662.06242996,  380498.15747646,\n",
       "        368849.15700488, 1574028.09622309,  494239.44005419,\n",
       "        433538.43002411, 1092396.08979156,  437078.41194722,\n",
       "        484529.5809521 ,  526734.16470661,  336341.93181316,\n",
       "        980527.42521172,  588715.0174918 ,  338556.86495634,\n",
       "        518640.34069632,  734289.46129883,  566585.94054215,\n",
       "        692481.09269165,  242414.33622838,  229672.39529799,\n",
       "        482669.63650116,  292766.79138702,  327844.78688626,\n",
       "        296741.98067611,  368640.80060862,  350969.25867183,\n",
       "        392906.52367953,  963629.75766384,  359624.38778104,\n",
       "        660078.95818595,  577104.97801317,  759573.81985036,\n",
       "        294166.99810548,  592983.83234189,  708936.05439492,\n",
       "        302013.04619332,  860309.71033584,  389296.66281056,\n",
       "        301354.22998725,  244531.59525941,  557883.50737871,\n",
       "        497524.10984457,  497782.41365506,  637498.27839492,\n",
       "       1159679.56139403,  395319.24743285,  549564.68900917,\n",
       "       1187286.85329085,  309525.45625854,  677530.2108337 ,\n",
       "        281991.61819714,  482453.84982876,  662920.17089301,\n",
       "        556782.13492199,  378709.93445125,  304277.64132977,\n",
       "        419109.30695578,  157385.28033103,  561032.41677153,\n",
       "        528623.66693909,  384475.94968455,  182754.8440995 ,\n",
       "        489271.34660916,  497568.56755114,  472081.52430613,\n",
       "        455356.16352089,  397570.40757621,  961545.45945594,\n",
       "        587103.69626791, 1332235.74489274,  409328.28553741,\n",
       "        355117.17225252,  286461.05176272,  383407.21638213,\n",
       "        897674.61969145,  571882.28681993,  288196.04824471,\n",
       "        200661.8158178 , 1128476.59692666,  420099.65899536,\n",
       "        276692.57022701,  616048.02401399,  244676.68860408,\n",
       "        347539.76728039,  343451.30756638,  232028.78732243,\n",
       "        528775.11639772,  312243.46322653,  455904.93284504,\n",
       "        791257.47349617,  392271.3188892 ,  365784.46972214,\n",
       "       1221210.88648784,  442925.3032108 ,  609202.57900918,\n",
       "        346355.11487335,  290690.41900488,  356236.88728463,\n",
       "        332445.2042415 ,  513067.12277177,  720277.18545787,\n",
       "       1271759.55230706,  540632.6675335 ,  891535.03829591,\n",
       "        582176.18017802,  250190.2001229 ,  143832.39225136,\n",
       "       1172543.89127692,  444673.30851829,  599738.54770858,\n",
       "        593224.79505065,  274249.75844211,  615559.9411445 ,\n",
       "        911068.40835181,  348404.94878729,  390527.55067903,\n",
       "        868375.29815827,  608200.33551363,  389092.34038247,\n",
       "        966474.40125592,  647218.87562528,  374070.05227273,\n",
       "        612275.53292533,  231869.3597881 ,  505097.57225381,\n",
       "        582184.79377489,  531234.15414445,  236098.29035701,\n",
       "        340967.81998228,  758768.71859319,  313440.01387826,\n",
       "       1314756.09028952,  699434.96814528,  472510.31000989,\n",
       "        319455.9714107 ,  522991.89236266,  519009.82614546,\n",
       "        404161.92893337, 1059921.29403555,  905444.47311978,\n",
       "        964471.0817666 ,  917058.98282103,  834309.68922667,\n",
       "        696170.3543877 ,  779352.34012215,  311354.73621182,\n",
       "        214052.91648516,  261117.936664  ,  436176.71994843,\n",
       "        336319.86214967,  245292.6640764 ,  376875.06368756,\n",
       "       1179939.20438596,  693630.30959108,  465079.9107652 ,\n",
       "        449919.77168007,  369040.08326147,  745774.62476217,\n",
       "        997054.37318633,  874087.75812518,  889706.75733198,\n",
       "        710916.24324989,  475522.84497331,  646524.37130183,\n",
       "       1014108.02308827,  403200.43931031,  366587.5069673 ,\n",
       "        293719.13332683,  638945.35265872,  695807.66417999,\n",
       "        677253.27055498,  583982.37962694,  793093.54564436,\n",
       "        459390.62755291,  316216.37891574,  396584.142151  ,\n",
       "        719793.37127004,  677136.20077834,  505846.20729256,\n",
       "        469731.05755046,  568028.30278408,  340082.77003411,\n",
       "        567424.12461455,  651964.46992014,  666499.56543344,\n",
       "       1358140.70345163,  603409.71853922,  438676.88227595,\n",
       "        703396.19928872, 1127486.67260342,  443600.53011006,\n",
       "        474253.94312882,  243621.29466925])"
      ]
     },
     "execution_count": 9,
     "metadata": {},
     "output_type": "execute_result"
    }
   ],
   "source": [
    "y_pred = lin_reg.predict(X_val)\n",
    "\n",
    "y_pred"
   ]
  },
  {
   "cell_type": "markdown",
   "id": "e8de6956",
   "metadata": {},
   "source": [
    "# Accuracy"
   ]
  },
  {
   "cell_type": "code",
   "execution_count": 10,
   "id": "b59ca60d",
   "metadata": {},
   "outputs": [
    {
     "data": {
      "text/plain": [
       "45784840595.798485"
      ]
     },
     "execution_count": 10,
     "metadata": {},
     "output_type": "execute_result"
    }
   ],
   "source": [
    "from sklearn.metrics import mean_squared_error\n",
    "mse = mean_squared_error(y_pred, y_val)\n",
    "mse"
   ]
  },
  {
   "cell_type": "code",
   "execution_count": 11,
   "id": "29aa2d53",
   "metadata": {},
   "outputs": [
    {
     "data": {
      "text/plain": [
       "0.3629294480010765"
      ]
     },
     "execution_count": 11,
     "metadata": {},
     "output_type": "execute_result"
    }
   ],
   "source": [
    "from sklearn.metrics import r2_score\n",
    "r2 = r2_score(y_pred,y_val)\n",
    "r2"
   ]
  },
  {
   "cell_type": "code",
   "execution_count": 12,
   "id": "f73c1fb3",
   "metadata": {},
   "outputs": [
    {
     "data": {
      "text/plain": [
       "((4140, 11), (230, 11))"
      ]
     },
     "execution_count": 12,
     "metadata": {},
     "output_type": "execute_result"
    }
   ],
   "source": [
    "X_train.shape , X_test.shape"
   ]
  },
  {
   "cell_type": "code",
   "execution_count": 13,
   "id": "591a432f",
   "metadata": {},
   "outputs": [
    {
     "data": {
      "text/plain": [
       "((4140,), (230,))"
      ]
     },
     "execution_count": 13,
     "metadata": {},
     "output_type": "execute_result"
    }
   ],
   "source": [
    "y_train.shape , y_test.shape"
   ]
  },
  {
   "cell_type": "markdown",
   "id": "84a2e4db",
   "metadata": {},
   "source": [
    "# Prediction"
   ]
  },
  {
   "cell_type": "code",
   "execution_count": 14,
   "id": "7b2f0f76",
   "metadata": {},
   "outputs": [
    {
     "data": {
      "text/plain": [
       "array([409871.85085784])"
      ]
     },
     "execution_count": 14,
     "metadata": {},
     "output_type": "execute_result"
    }
   ],
   "source": [
    "# bd,bt,slvng,slot,floors,waterfrnt,view,condition,sqbasmnt,yrblt,yrrnvtd\n",
    "lin_reg.predict([[3,2,1339,7911,2,0,0,3,0,1955,2005]])"
   ]
  },
  {
   "cell_type": "markdown",
   "id": "765a065a",
   "metadata": {},
   "source": [
    "# Pickling the Model"
   ]
  },
  {
   "cell_type": "code",
   "execution_count": 15,
   "id": "965dbbe3",
   "metadata": {},
   "outputs": [],
   "source": [
    "import pickle\n",
    "\n",
    "filename = 'House_Price_Model.pkl'\n",
    "with open(filename, 'wb') as file:\n",
    "    pickle.dump(lin_reg, file)"
   ]
  },
  {
   "cell_type": "code",
   "execution_count": null,
   "id": "83dedbdb",
   "metadata": {},
   "outputs": [],
   "source": []
  },
  {
   "cell_type": "markdown",
   "id": "4e0444a8",
   "metadata": {},
   "source": [
    "# GridSearch Cv - Even Worse"
   ]
  },
  {
   "cell_type": "code",
   "execution_count": 23,
   "id": "c5c987c9",
   "metadata": {},
   "outputs": [],
   "source": [
    "from sklearn.linear_model import Ridge\n",
    "from sklearn.model_selection import GridSearchCV"
   ]
  },
  {
   "cell_type": "code",
   "execution_count": 24,
   "id": "20bb3d3d",
   "metadata": {},
   "outputs": [
    {
     "data": {
      "text/html": [
       "<style>#sk-container-id-2 {color: black;}#sk-container-id-2 pre{padding: 0;}#sk-container-id-2 div.sk-toggleable {background-color: white;}#sk-container-id-2 label.sk-toggleable__label {cursor: pointer;display: block;width: 100%;margin-bottom: 0;padding: 0.3em;box-sizing: border-box;text-align: center;}#sk-container-id-2 label.sk-toggleable__label-arrow:before {content: \"▸\";float: left;margin-right: 0.25em;color: #696969;}#sk-container-id-2 label.sk-toggleable__label-arrow:hover:before {color: black;}#sk-container-id-2 div.sk-estimator:hover label.sk-toggleable__label-arrow:before {color: black;}#sk-container-id-2 div.sk-toggleable__content {max-height: 0;max-width: 0;overflow: hidden;text-align: left;background-color: #f0f8ff;}#sk-container-id-2 div.sk-toggleable__content pre {margin: 0.2em;color: black;border-radius: 0.25em;background-color: #f0f8ff;}#sk-container-id-2 input.sk-toggleable__control:checked~div.sk-toggleable__content {max-height: 200px;max-width: 100%;overflow: auto;}#sk-container-id-2 input.sk-toggleable__control:checked~label.sk-toggleable__label-arrow:before {content: \"▾\";}#sk-container-id-2 div.sk-estimator input.sk-toggleable__control:checked~label.sk-toggleable__label {background-color: #d4ebff;}#sk-container-id-2 div.sk-label input.sk-toggleable__control:checked~label.sk-toggleable__label {background-color: #d4ebff;}#sk-container-id-2 input.sk-hidden--visually {border: 0;clip: rect(1px 1px 1px 1px);clip: rect(1px, 1px, 1px, 1px);height: 1px;margin: -1px;overflow: hidden;padding: 0;position: absolute;width: 1px;}#sk-container-id-2 div.sk-estimator {font-family: monospace;background-color: #f0f8ff;border: 1px dotted black;border-radius: 0.25em;box-sizing: border-box;margin-bottom: 0.5em;}#sk-container-id-2 div.sk-estimator:hover {background-color: #d4ebff;}#sk-container-id-2 div.sk-parallel-item::after {content: \"\";width: 100%;border-bottom: 1px solid gray;flex-grow: 1;}#sk-container-id-2 div.sk-label:hover label.sk-toggleable__label {background-color: #d4ebff;}#sk-container-id-2 div.sk-serial::before {content: \"\";position: absolute;border-left: 1px solid gray;box-sizing: border-box;top: 0;bottom: 0;left: 50%;z-index: 0;}#sk-container-id-2 div.sk-serial {display: flex;flex-direction: column;align-items: center;background-color: white;padding-right: 0.2em;padding-left: 0.2em;position: relative;}#sk-container-id-2 div.sk-item {position: relative;z-index: 1;}#sk-container-id-2 div.sk-parallel {display: flex;align-items: stretch;justify-content: center;background-color: white;position: relative;}#sk-container-id-2 div.sk-item::before, #sk-container-id-2 div.sk-parallel-item::before {content: \"\";position: absolute;border-left: 1px solid gray;box-sizing: border-box;top: 0;bottom: 0;left: 50%;z-index: -1;}#sk-container-id-2 div.sk-parallel-item {display: flex;flex-direction: column;z-index: 1;position: relative;background-color: white;}#sk-container-id-2 div.sk-parallel-item:first-child::after {align-self: flex-end;width: 50%;}#sk-container-id-2 div.sk-parallel-item:last-child::after {align-self: flex-start;width: 50%;}#sk-container-id-2 div.sk-parallel-item:only-child::after {width: 0;}#sk-container-id-2 div.sk-dashed-wrapped {border: 1px dashed gray;margin: 0 0.4em 0.5em 0.4em;box-sizing: border-box;padding-bottom: 0.4em;background-color: white;}#sk-container-id-2 div.sk-label label {font-family: monospace;font-weight: bold;display: inline-block;line-height: 1.2em;}#sk-container-id-2 div.sk-label-container {text-align: center;}#sk-container-id-2 div.sk-container {/* jupyter's `normalize.less` sets `[hidden] { display: none; }` but bootstrap.min.css set `[hidden] { display: none !important; }` so we also need the `!important` here to be able to override the default hidden behavior on the sphinx rendered scikit-learn.org. See: https://github.com/scikit-learn/scikit-learn/issues/21755 */display: inline-block !important;position: relative;}#sk-container-id-2 div.sk-text-repr-fallback {display: none;}</style><div id=\"sk-container-id-2\" class=\"sk-top-container\"><div class=\"sk-text-repr-fallback\"><pre>GridSearchCV(cv=5, estimator=Ridge(), param_grid={&#x27;alpha&#x27;: [0.1, 1, 10, 100]},\n",
       "             scoring=&#x27;neg_mean_squared_error&#x27;)</pre><b>In a Jupyter environment, please rerun this cell to show the HTML representation or trust the notebook. <br />On GitHub, the HTML representation is unable to render, please try loading this page with nbviewer.org.</b></div><div class=\"sk-container\" hidden><div class=\"sk-item sk-dashed-wrapped\"><div class=\"sk-label-container\"><div class=\"sk-label sk-toggleable\"><input class=\"sk-toggleable__control sk-hidden--visually\" id=\"sk-estimator-id-2\" type=\"checkbox\" ><label for=\"sk-estimator-id-2\" class=\"sk-toggleable__label sk-toggleable__label-arrow\">GridSearchCV</label><div class=\"sk-toggleable__content\"><pre>GridSearchCV(cv=5, estimator=Ridge(), param_grid={&#x27;alpha&#x27;: [0.1, 1, 10, 100]},\n",
       "             scoring=&#x27;neg_mean_squared_error&#x27;)</pre></div></div></div><div class=\"sk-parallel\"><div class=\"sk-parallel-item\"><div class=\"sk-item\"><div class=\"sk-label-container\"><div class=\"sk-label sk-toggleable\"><input class=\"sk-toggleable__control sk-hidden--visually\" id=\"sk-estimator-id-3\" type=\"checkbox\" ><label for=\"sk-estimator-id-3\" class=\"sk-toggleable__label sk-toggleable__label-arrow\">estimator: Ridge</label><div class=\"sk-toggleable__content\"><pre>Ridge()</pre></div></div></div><div class=\"sk-serial\"><div class=\"sk-item\"><div class=\"sk-estimator sk-toggleable\"><input class=\"sk-toggleable__control sk-hidden--visually\" id=\"sk-estimator-id-4\" type=\"checkbox\" ><label for=\"sk-estimator-id-4\" class=\"sk-toggleable__label sk-toggleable__label-arrow\">Ridge</label><div class=\"sk-toggleable__content\"><pre>Ridge()</pre></div></div></div></div></div></div></div></div></div></div>"
      ],
      "text/plain": [
       "GridSearchCV(cv=5, estimator=Ridge(), param_grid={'alpha': [0.1, 1, 10, 100]},\n",
       "             scoring='neg_mean_squared_error')"
      ]
     },
     "execution_count": 24,
     "metadata": {},
     "output_type": "execute_result"
    }
   ],
   "source": [
    "ridge = Ridge()\n",
    "\n",
    "param_grid = {'alpha': [0.1, 1, 10, 100]}\n",
    "\n",
    "grid_search = GridSearchCV(ridge, param_grid, cv=5, scoring='neg_mean_squared_error')\n",
    "\n",
    "grid_search.fit(X_train, y_train)"
   ]
  },
  {
   "cell_type": "code",
   "execution_count": 26,
   "id": "0af01c1b",
   "metadata": {},
   "outputs": [
    {
     "name": "stdout",
     "output_type": "stream",
     "text": [
      "Best Parameters:  {'alpha': 100}\n",
      "Best Estimator: Ridge(alpha=100)\n"
     ]
    }
   ],
   "source": [
    "print(\"Best Parameters: \", grid_search.best_params_)\n",
    "print('Best Estimator:' , grid_search.best_estimator_)"
   ]
  },
  {
   "cell_type": "code",
   "execution_count": 27,
   "id": "fe3a8a41",
   "metadata": {},
   "outputs": [],
   "source": [
    "ridge_gs = grid_search.best_estimator_"
   ]
  },
  {
   "cell_type": "code",
   "execution_count": 29,
   "id": "e9e8a22c",
   "metadata": {
    "collapsed": true
   },
   "outputs": [
    {
     "data": {
      "text/plain": [
       "array([ 282504.67376132, 1889359.3711269 ,  229953.67748202,\n",
       "        590222.52988636,  841725.02264133,  565151.0839672 ,\n",
       "        908537.27720482,  924689.36858734,  274649.38930472,\n",
       "        746887.22428186,  859268.70883984,  363603.39575247,\n",
       "        507354.72153704,  405276.35387509,  596816.27817695,\n",
       "        816411.07590074,  617422.12358035,  405470.67271776,\n",
       "        659870.76990066,  320914.50664035, 1068194.72707464,\n",
       "        366462.48350958,  542165.616602  ,  555796.62758674,\n",
       "        318619.99391432,  592600.03797155,  401485.57560123,\n",
       "        536820.59215075,  918282.13760185,  546149.86401289,\n",
       "        361961.07489521,  413226.48478768,  541607.72253053,\n",
       "        347851.69436471,  469097.43113943,  293211.52404836,\n",
       "        603889.84328109,  401745.73331355,  801638.33010914,\n",
       "        756606.33305872,  213342.44245359,  301086.9759829 ,\n",
       "        666487.95348779,  224372.05907848,  426060.62265108,\n",
       "        242148.71206663,  559517.71759909,  278456.37510199,\n",
       "        512675.19673496,  918969.4157417 ,  368395.47876675,\n",
       "        490028.25566372,  515177.48038531,  398086.13546241,\n",
       "        473706.31571981,  863729.68292815,  972631.70637487,\n",
       "       1121593.65681942,  327701.98269333,  451214.78020572,\n",
       "        888890.16175551,  804939.06197395,  326432.9274433 ,\n",
       "        599077.91142758,  399333.69757714,  857938.58920697,\n",
       "        626491.0180537 ,  611153.12175143,  971156.55284341,\n",
       "        733836.06258424,  440271.05183447,  278651.06431239,\n",
       "        867763.53690978,  404314.81702514,  393334.84755853,\n",
       "        254055.52881206, 1556142.81689979,  479079.03606145,\n",
       "        671200.66178439,  430330.66750818,  224670.41451119,\n",
       "        297811.50875931,  625520.29926844,  469260.15430509,\n",
       "        423088.30616506,  720105.53507701,  635317.24234993,\n",
       "        518919.14098905,  501015.60286209,  373069.50970435,\n",
       "        581677.96394998,  800234.78615165,  620451.00408915,\n",
       "        847353.21296511,  686557.08433152,  247282.71604829,\n",
       "        160695.79024995,  489090.47291118,  641257.91622461,\n",
       "        283144.24409168, 1334540.66620692,  505701.78281531,\n",
       "        374883.918869  ,  404757.44330113,  443371.71318041,\n",
       "        261821.09356921,  329299.25999257,  663613.65307108,\n",
       "        567802.30910944,  558298.88274154,  683736.81164984,\n",
       "        665786.24844646,  325919.58621434,  513454.8152339 ,\n",
       "        495044.4574197 ,  620677.24038281,  349142.13989291,\n",
       "        879282.44090308,  760373.88230416,  616619.72566903,\n",
       "        275044.33537688,  734691.57874502,  764736.94609989,\n",
       "        968033.25460581,  511012.31928593,  587811.45072526,\n",
       "       1024224.55256136,  767207.98028913,  594040.7839454 ,\n",
       "        622251.47079759,  507490.80163583,  454930.81719019,\n",
       "        995645.80052261,  482560.22820011,  277312.81545676,\n",
       "        675193.97206032,  442498.31017535,  396861.85441778,\n",
       "        666489.07075344,  254023.7283351 ,  282617.71379478,\n",
       "        477939.34884128, 1005763.77676874,  299502.33314078,\n",
       "        295732.47960391,  775588.77216798,  389334.35703015,\n",
       "        732289.59500366,  812717.99291367,  335345.24327478,\n",
       "        270063.65396946,  984683.94943309,  449097.20585809,\n",
       "        504796.40900012,  743691.58303847,  548083.06228723,\n",
       "        606505.33461879,  599236.21365555,  740748.89069405,\n",
       "        845447.46419791,  721595.90828383,  713965.23425225,\n",
       "        474360.95225829,  521522.37447047,  827291.74956036,\n",
       "        364042.82586474,  623677.97498508,  444230.75622662,\n",
       "        243756.1153355 ,  372677.63582856,  418667.63426192,\n",
       "        824260.73706238, 3655063.08889595,  398221.89388426,\n",
       "        461779.90658571,  243134.60249722,  420702.26612833,\n",
       "        401784.31761738, 1391919.84565587,  441231.63226681,\n",
       "        720194.44535534,  398017.61653479,  634568.77903131,\n",
       "        798138.19214403,  755880.10532743,  158889.58176707,\n",
       "        517361.45970162,  505264.39910478,  197034.99332026,\n",
       "        338937.39308496,  621103.56747518,  592195.51572707,\n",
       "        381483.60904487,  493286.04770566,  639065.10863509,\n",
       "        482300.61944135,  451510.19542143,  436606.40901492,\n",
       "        692108.36329984,  400151.02618969,  700834.67770828,\n",
       "       1169106.44635433,  491399.38418439,  364864.45245997,\n",
       "        265432.56312353,  569045.32081114,  327020.86081251,\n",
       "        542330.77895715,  725022.87314865,  284341.12004091,\n",
       "        582105.72156639,  429546.47199738,  481276.06336534,\n",
       "        547214.11058132,  345500.92484008,  269940.88111116,\n",
       "        624843.12041565,  399068.09909544,  367009.69940565,\n",
       "       1082671.89899912,  312047.24726372,  316948.62411697,\n",
       "        368500.8050511 ,  475367.65773097,  431471.3938942 ,\n",
       "        502452.86741784,  738266.56677191,  327040.41921538,\n",
       "        714819.71650884,  458924.72357932])"
      ]
     },
     "execution_count": 29,
     "metadata": {},
     "output_type": "execute_result"
    }
   ],
   "source": [
    "y_pred2 = ridge_gs.predict(X_test)\n",
    "\n",
    "y_pred2"
   ]
  },
  {
   "cell_type": "code",
   "execution_count": 31,
   "id": "7a427e79",
   "metadata": {},
   "outputs": [
    {
     "data": {
      "text/plain": [
       "-0.6195739708330072"
      ]
     },
     "execution_count": 31,
     "metadata": {},
     "output_type": "execute_result"
    }
   ],
   "source": [
    "mse = r2_score(y_test,y_pred)\n",
    "mse"
   ]
  },
  {
   "cell_type": "code",
   "execution_count": null,
   "id": "7b27471d",
   "metadata": {},
   "outputs": [],
   "source": []
  },
  {
   "cell_type": "code",
   "execution_count": null,
   "id": "70a9516a",
   "metadata": {},
   "outputs": [],
   "source": []
  },
  {
   "cell_type": "code",
   "execution_count": null,
   "id": "b1aa1613",
   "metadata": {},
   "outputs": [],
   "source": []
  },
  {
   "cell_type": "code",
   "execution_count": null,
   "id": "c8b5c4ae",
   "metadata": {},
   "outputs": [],
   "source": []
  },
  {
   "cell_type": "code",
   "execution_count": null,
   "id": "5f895341",
   "metadata": {},
   "outputs": [],
   "source": []
  }
 ],
 "metadata": {
  "kernelspec": {
   "display_name": "Python 3 (ipykernel)",
   "language": "python",
   "name": "python3"
  },
  "language_info": {
   "codemirror_mode": {
    "name": "ipython",
    "version": 3
   },
   "file_extension": ".py",
   "mimetype": "text/x-python",
   "name": "python",
   "nbconvert_exporter": "python",
   "pygments_lexer": "ipython3",
   "version": "3.11.5"
  }
 },
 "nbformat": 4,
 "nbformat_minor": 5
}
